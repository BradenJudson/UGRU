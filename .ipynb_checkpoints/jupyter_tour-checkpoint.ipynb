{
 "cells": [
  {
   "cell_type": "markdown",
   "metadata": {},
   "source": [
    "# Jupyter notebooks \n",
    "## an interactive environment for writing code and markdown \n",
    "\n",
    "\n"
   ]
  },
  {
   "cell_type": "code",
   "execution_count": null,
   "metadata": {},
   "outputs": [],
   "source": []
  },
  {
   "cell_type": "markdown",
   "metadata": {},
   "source": [
    "Where can you try it?\n",
    "\n",
    "[Visit this page on jupyter's website to play around without having to install anything.](https://try.jupyter.org/)\n",
    "\n",
    "If you like it, see the installation instructions at the end of the notebook"
   ]
  },
  {
   "cell_type": "code",
   "execution_count": null,
   "metadata": {},
   "outputs": [],
   "source": [
    "\n"
   ]
  },
  {
   "cell_type": "code",
   "execution_count": null,
   "metadata": {},
   "outputs": [],
   "source": []
  },
  {
   "cell_type": "code",
   "execution_count": null,
   "metadata": {},
   "outputs": [],
   "source": []
  },
  {
   "cell_type": "code",
   "execution_count": null,
   "metadata": {},
   "outputs": [],
   "source": []
  },
  {
   "cell_type": "markdown",
   "metadata": {},
   "source": [
    "## Installation Instructions\n",
    "\n",
    "I've tried to come up with an optimal between simplicity and downloading way more programs than you need.\n",
    "Process it to download a python package manager, then set up jupyter notebook and install the r version.\n",
    "\n",
    "### Step 1. Download miniconda for python 3.6\n",
    "This is found here:\n",
    "https://conda.io/miniconda.html\n",
    "Get the version corresponding to your operating system.\n",
    "\n",
    "### Step 2. Install miniconda\n",
    "Once you download it, follow the setup instructions.\n",
    "#### WINDOWS IMPORTANT NOTE: during the installation select the 'add conda to your $PATH option' or else you can't use it from command prompt."
   ]
  },
  {
   "cell_type": "markdown",
   "metadata": {},
   "source": [
    "\n",
    "### Step 3. installing jupyter and jupyter's r support \n",
    "\n",
    "1. MAC: open terminal (it is in your applications/utilities).\n",
    "1. WINDOWS: open command prompt (just search for it).\n",
    "2. Run the following three commands in your respective terminal.\n",
    "\n",
    "```\n",
    "conda install jupyter\n",
    "    \n",
    "conda install -c r r \n",
    "    \n",
    "conda install -c r r-irkernel\n",
    "```\n",
    "\n",
    "### Step 4.  running jupyter\n",
    "If that all worked it should now be installed!\n",
    "To start the notebook do the following.\n",
    "\n",
    "#### Mac\n",
    "In a terminal type the following:\n",
    "    \n",
    "    jupyter notebook\n",
    "\n",
    "#### PC \n",
    "In command prompy type the following:\n",
    "\n",
    "    python -m notebook\n",
    "    \n",
    "Now your web browser will open and you can open a new jupyter notebook!\n"
   ]
  },
  {
   "cell_type": "code",
   "execution_count": null,
   "metadata": {},
   "outputs": [],
   "source": []
  }
 ],
 "metadata": {
  "kernelspec": {
   "display_name": "R",
   "language": "R",
   "name": "ir"
  },
  "language_info": {
   "codemirror_mode": "r",
   "file_extension": ".r",
   "mimetype": "text/x-r-source",
   "name": "R",
   "pygments_lexer": "r",
   "version": "3.4.3"
  }
 },
 "nbformat": 4,
 "nbformat_minor": 2
}
